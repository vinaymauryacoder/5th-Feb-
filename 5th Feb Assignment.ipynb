{
 "cells": [
  {
   "cell_type": "code",
   "execution_count": null,
   "id": "07073c3e",
   "metadata": {},
   "outputs": [],
   "source": [
    "Q1. Explain Class and Object with respect to Object-Oriented Programming. Give a suitable example."
   ]
  },
  {
   "cell_type": "markdown",
   "id": "a6d346b8",
   "metadata": {},
   "source": [
    "\"\"\"class is a blueprint or a template for creating objects, while an object is an instance of a class .\"\"\"\n",
    "\n",
    "''' object is a specific instance of a class that has its own set of values for the attributes defined in the class.\n",
    "For example, if we create an object of the car class, we can set the make to \"Toyota\", the model to \n",
    "\"Corolla\", and the color to \"Red\". This object will have its own values for the attributes, \n",
    "but it will share the same methods or behavior as all other objects of the car \"\"\""
   ]
  },
  {
   "cell_type": "code",
   "execution_count": 1,
   "id": "530949d7",
   "metadata": {},
   "outputs": [],
   "source": [
    "class dholakpur:\n",
    "    \n",
    "    def welcome_msg(self):\n",
    "        print(\"welcome to dholakpur\")\n",
    "place = dholakpur()\n"
   ]
  },
  {
   "cell_type": "code",
   "execution_count": 3,
   "id": "8fce6fc1",
   "metadata": {},
   "outputs": [
    {
     "name": "stdout",
     "output_type": "stream",
     "text": [
      "welcome to dholakpur\n"
     ]
    }
   ],
   "source": [
    "place.welcome_msg( )"
   ]
  },
  {
   "cell_type": "code",
   "execution_count": null,
   "id": "24a8136c",
   "metadata": {},
   "outputs": [],
   "source": [
    "Q2. Name the four pillars of OOPs."
   ]
  },
  {
   "cell_type": "code",
   "execution_count": null,
   "id": "fb841c3e",
   "metadata": {},
   "outputs": [],
   "source": [
    "1. Encapsulation\n",
    "2.Abstraction\n",
    "3.Inheritance\n",
    "4.Polymorphism"
   ]
  },
  {
   "cell_type": "code",
   "execution_count": null,
   "id": "31bfdd1b",
   "metadata": {},
   "outputs": [],
   "source": [
    "Q3. Explain why the __init__() function is used. Give a suitable example."
   ]
  },
  {
   "cell_type": "code",
   "execution_count": 8,
   "id": "a243be51",
   "metadata": {},
   "outputs": [],
   "source": [
    " # The init() function allows us to define the initial state of the object and set its attributes to specific value.\n",
    "\n",
    "class men:\n",
    "    def __init__(self, name, age):\n",
    "        self.name = name\n",
    "        self.age = age\n",
    "hum = men(\"Ram\", 30)\n"
   ]
  },
  {
   "cell_type": "code",
   "execution_count": 9,
   "id": "b077df0c",
   "metadata": {},
   "outputs": [
    {
     "data": {
      "text/plain": [
       "'Ram'"
      ]
     },
     "execution_count": 9,
     "metadata": {},
     "output_type": "execute_result"
    }
   ],
   "source": [
    "hum.name"
   ]
  },
  {
   "cell_type": "code",
   "execution_count": 10,
   "id": "4f6546cc",
   "metadata": {},
   "outputs": [
    {
     "data": {
      "text/plain": [
       "30"
      ]
     },
     "execution_count": 10,
     "metadata": {},
     "output_type": "execute_result"
    }
   ],
   "source": [
    "hum.age"
   ]
  },
  {
   "cell_type": "code",
   "execution_count": null,
   "id": "0857052a",
   "metadata": {},
   "outputs": [],
   "source": [
    "Q4. Why self is used in OOPs?"
   ]
  },
  {
   "cell_type": "code",
   "execution_count": null,
   "id": "28a112bc",
   "metadata": {},
   "outputs": [],
   "source": [
    " \"self\" keyword is used to refer to the object that is being created or manipulated. It is a reference to the instance of \n",
    "the class, and it allows us to access the attributes and methods of the object.\n",
    "\n",
    "\"self\" -  parameter is automatically passed to the method, allowing us to access the attributes and methods of the object."
   ]
  },
  {
   "cell_type": "code",
   "execution_count": null,
   "id": "5bec132d",
   "metadata": {},
   "outputs": [],
   "source": [
    "Q5. What is inheritance? Give an example for each type of inheritance."
   ]
  },
  {
   "cell_type": "markdown",
   "id": "cb2a034e",
   "metadata": {},
   "source": [
    "Inheritance -  is a fundamental concept in OOPs that allows one class to inherit properties and behaviors from another class.\n",
    "Inheritance promotes code reuse, reduces code duplication, and simplifies program maintenance.\n",
    "\n",
    "there is 4 types of inheritance \n",
    "1. Single inheritance: In single inheritance, a class inherits from a single parent class. The child class inherits\n",
    "    all the properties and methods of the parent class. \n",
    "\n"
   ]
  },
  {
   "cell_type": "code",
   "execution_count": 13,
   "id": "f87df622",
   "metadata": {},
   "outputs": [
    {
     "name": "stdout",
     "output_type": "stream",
     "text": [
      "Diesel Engine.\n",
      "Self Driving car.\n"
     ]
    }
   ],
   "source": [
    "class Truck:\n",
    "    def Diesel_engine(self):\n",
    "        print(\"Diesel Engine.\")\n",
    "\n",
    "class Car(Vehicle):\n",
    "    def self_drive(self):\n",
    "        print(\"Self Driving car.\")\n",
    "\n",
    "my_car = Car()\n",
    "my_car.Diesel_engine()\n",
    "my_car.self_drive() \n"
   ]
  },
  {
   "cell_type": "code",
   "execution_count": null,
   "id": "099bd01c",
   "metadata": {},
   "outputs": [],
   "source": [
    " 2. Multiple inheritance: In multiple inheritance, a class inherits from multiple parent classes. The child class inherits\n",
    "    all the properties and methods of the parent classes."
   ]
  },
  {
   "cell_type": "code",
   "execution_count": 15,
   "id": "4eedd51d",
   "metadata": {},
   "outputs": [
    {
     "name": "stdout",
     "output_type": "stream",
     "text": [
      "Diesel Engine.\n",
      "Playing music.\n",
      "Self Driving car.\n"
     ]
    }
   ],
   "source": [
    "class Truck:\n",
    "    def Diesel_engine(self):\n",
    "        print(\"Diesel started.\")\n",
    "\n",
    "class Radio:\n",
    "    def play_music(self):\n",
    "        print(\"Playing music.\")\n",
    "\n",
    "class Car(Vehicle, Radio):\n",
    "    def Self_drive(self):\n",
    "        print(\"Self Driving car.\")\n",
    "\n",
    "my_car = Car()\n",
    "my_car.Diesel_engine() \n",
    "my_car.play_music()\n",
    "my_car.Self_drive() \n"
   ]
  },
  {
   "cell_type": "code",
   "execution_count": null,
   "id": "dc9cab2e",
   "metadata": {},
   "outputs": [],
   "source": [
    "3. Hierarchical inheritance: In hierarchical inheritance, multiple child classes inherit from a single parent class."
   ]
  },
  {
   "cell_type": "code",
   "execution_count": 17,
   "id": "3b3938ed",
   "metadata": {},
   "outputs": [
    {
     "name": "stdout",
     "output_type": "stream",
     "text": [
      "Engine started.\n",
      "Driving the car.\n",
      "Engine started.\n",
      "Hauling cargo.\n"
     ]
    }
   ],
   "source": [
    "class Vehicle:\n",
    "    def start_engine(self):\n",
    "        print(\"Engine started.\")\n",
    "\n",
    "class Car(Vehicle):\n",
    "    def drive(self):\n",
    "        print(\"Driving the car.\")\n",
    "\n",
    "class Aeroplane(Vehicle):\n",
    "    def haul(self):\n",
    "        print(\"Hauling cargo.\")\n",
    "\n",
    "my_car = Car()\n",
    "my_car.start_engine() \n",
    "my_car.drive()  \n",
    "\n",
    "my_Aeroplane = Aeroplane()\n",
    "my_Aeroplane.start_engine()\n",
    "my_Aeroplane.haul()  \n"
   ]
  },
  {
   "cell_type": "code",
   "execution_count": null,
   "id": "cda97117",
   "metadata": {},
   "outputs": [],
   "source": [
    "4. Multilevel inheritance: In multilevel inheritance, a class inherits from a parent class, which in turn \n",
    "    inherits from another parent class."
   ]
  },
  {
   "cell_type": "code",
   "execution_count": 18,
   "id": "5af33d70",
   "metadata": {},
   "outputs": [
    {
     "name": "stdout",
     "output_type": "stream",
     "text": [
      "Engine started.\n",
      "Driving the car.\n",
      "Engine started.\n",
      "Driving the car.\n",
      "Going fast!\n"
     ]
    }
   ],
   "source": [
    "class Vehicle:\n",
    "    def start_engine(self):\n",
    "        print(\"Engine started.\")\n",
    "\n",
    "class Car(Vehicle):\n",
    "    def drive(self):\n",
    "        print(\"Driving the car.\")\n",
    "\n",
    "class SportsCar(Car):\n",
    "    def go_fast(self):\n",
    "        print(\"Going fast!\")\n",
    "\n",
    "my_car = Car()\n",
    "my_car.start_engine()\n",
    "my_car.drive()  \n",
    "\n",
    "my_sports_car = SportsCar()\n",
    "my_sports_car.start_engine()\n",
    "my_sports_car.drive()  \n",
    "my_sports_car.go_fast()  \n"
   ]
  },
  {
   "cell_type": "code",
   "execution_count": null,
   "id": "924a7884",
   "metadata": {},
   "outputs": [],
   "source": []
  },
  {
   "cell_type": "code",
   "execution_count": null,
   "id": "6aa9743b",
   "metadata": {},
   "outputs": [],
   "source": []
  }
 ],
 "metadata": {
  "kernelspec": {
   "display_name": "Python 3 (ipykernel)",
   "language": "python",
   "name": "python3"
  },
  "language_info": {
   "codemirror_mode": {
    "name": "ipython",
    "version": 3
   },
   "file_extension": ".py",
   "mimetype": "text/x-python",
   "name": "python",
   "nbconvert_exporter": "python",
   "pygments_lexer": "ipython3",
   "version": "3.9.13"
  }
 },
 "nbformat": 4,
 "nbformat_minor": 5
}
